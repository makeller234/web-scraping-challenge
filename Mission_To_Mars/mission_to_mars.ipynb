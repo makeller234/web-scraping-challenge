{
 "cells": [
  {
   "cell_type": "code",
   "execution_count": 1,
   "metadata": {},
   "outputs": [],
   "source": [
    "import pandas as pd\n",
    "from splinter import Browser\n",
    "from bs4 import BeautifulSoup as bs\n",
    "import requests"
   ]
  },
  {
   "cell_type": "code",
   "execution_count": 2,
   "metadata": {},
   "outputs": [],
   "source": [
    "executable_path = {'executable_path': '/usr/local/bin/chromedriver'}\n",
    "browser = Browser('chrome', **executable_path, headless=False)"
   ]
  },
  {
   "cell_type": "code",
   "execution_count": 3,
   "metadata": {},
   "outputs": [
    {
     "data": {
      "text/plain": [
       "\"NASA's Curiosity Mars Rover Snaps Its Highest-Resolution Panorama Yet\""
      ]
     },
     "execution_count": 3,
     "metadata": {},
     "output_type": "execute_result"
    }
   ],
   "source": [
    "# find article title\n",
    "articleURL = \"https://mars.nasa.gov/news\"\n",
    "browser.visit(articleURL)\n",
    "html = browser.html\n",
    "soup = bs(html, \"html.parser\")\n",
    "\n",
    "articleTitle = soup.find(\"ul\", class_=\"item_list\")\n",
    "\n",
    "news_title = articleTitle.find('div', class_=\"content_title\").text"
   ]
  },
  {
   "cell_type": "code",
   "execution_count": null,
   "metadata": {},
   "outputs": [],
   "source": [
    "# find paragraph text for articles\n",
    "news_p = soup.find('div', class_='article_teaser_body').text"
   ]
  },
  {
   "cell_type": "code",
   "execution_count": null,
   "metadata": {},
   "outputs": [],
   "source": [
    "# mars feature image\n",
    "marsURL = \"https://www.jpl.nasa.gov/spaceimages/?search=&category=Mars\"\n",
    "\n",
    "browser.visit(marsURL)\n",
    "marsHTML = browser.html\n",
    "marsSoup = bs(marsHTML, \"html.parser\")\n"
   ]
  },
  {
   "cell_type": "code",
   "execution_count": null,
   "metadata": {},
   "outputs": [],
   "source": [
    "# mars feature image continued\n",
    "featureImage = marsSoup.find('article')\n",
    "\n",
    "close = featureImage.find('footer')\n",
    "gettingCloser = close.find('a')\n",
    "bingo = gettingCloser['data-fancybox-href']\n",
    "\n",
    "featured_image_url = \"https://www.jpl.nasa.gov\" + bingo\n",
    "#print(featured_image_url)"
   ]
  },
  {
   "cell_type": "code",
   "execution_count": null,
   "metadata": {},
   "outputs": [],
   "source": [
    "# mars twitter weather\n",
    "weatherURL = \"https://twitter.com/marswxreport?lang=en\"\n",
    "weatherResponse = requests.get(weatherURL)\n",
    "\n",
    "weatherSoup = bs(weatherResponse.text, 'html.parser')\n",
    "\n",
    "mars_weather = weatherSoup.find('p', class_=\"TweetTextSize TweetTextSize--normal js-tweet-text tweet-text\").text\n"
   ]
  },
  {
   "cell_type": "code",
   "execution_count": null,
   "metadata": {},
   "outputs": [],
   "source": [
    "# mars facts\n",
    "tableURL = \"https://space-facts.com/mars/\"\n",
    "\n",
    "table = pd.read_html(tableURL)\n",
    "information = table[0]\n",
    "marsFacts = information.to_html()"
   ]
  },
  {
   "cell_type": "code",
   "execution_count": null,
   "metadata": {},
   "outputs": [],
   "source": [
    "# hemispheres\n",
    "hemisphere_image_urls = []\n",
    "imageBeginURL = \"https://astrogeology.usgs.gov\"\n",
    "\n",
    "cerberusURL = \"https://astrogeology.usgs.gov/search/map/Mars/Viking/cerberus_enhanced\"\n",
    "browser.visit(cerberusURL)\n",
    "cerberusHTML = browser.html\n",
    "cerberusSoup = bs(cerberusHTML, \"html.parser\")\n",
    "\n",
    "cerberusImage = cerberusSoup.find('img', class_=\"wide-image\")\n",
    "hemisphere_image_urls.append({\"title\":\"Cerberus Hemisphere\", \"URL\": imageBeginURL + cerberusImage['src']})"
   ]
  },
  {
   "cell_type": "code",
   "execution_count": null,
   "metadata": {},
   "outputs": [],
   "source": [
    "schiaparelliURL = \"https://astrogeology.usgs.gov/search/map/Mars/Viking/schiaparelli_enhanced\"\n",
    "browser.visit(schiaparelliURL)\n",
    "schiaparelliHTML = browser.html\n",
    "schiaparelliSoup = bs(schiaparelliHTML, 'html.parser')\n",
    "\n",
    "schiaparelliImage = schiaparelliSoup.find('img', class_=\"wide-image\")\n",
    "schiaparelliImage['src']\n",
    "\n",
    "hemisphere_image_urls.append({\"title\": \"Schiaparelli Hemisphere\", \"URL\": imageBeginURL + schiaparelliImage['src']})"
   ]
  },
  {
   "cell_type": "code",
   "execution_count": null,
   "metadata": {},
   "outputs": [],
   "source": [
    "syrtismajorURL = \"https://astrogeology.usgs.gov/search/map/Mars/Viking/syrtis_major_enhanced\"\n",
    "browser.visit(syrtismajorURL)\n",
    "syrtismajorHTML = browser.html\n",
    "syrtismajorSoup = bs(syrtismajorHTML, 'html.parser')\n",
    "\n",
    "syrtismajorImage = syrtismajorSoup.find('img', class_=\"wide-image\")\n",
    "hemisphere_image_urls.append({\"title\": \"Syrtis Major Hemisphere\", \"URL\": imageBeginURL + syrtismajorImage['src']})"
   ]
  },
  {
   "cell_type": "code",
   "execution_count": null,
   "metadata": {},
   "outputs": [],
   "source": [
    "vallesmarinerisURL = \"https://astrogeology.usgs.gov/search/map/Mars/Viking/valles_marineris_enhanced\"\n",
    "browser.visit(vallesmarinerisURL)\n",
    "vallesmarinerisHTML = browser.html\n",
    "vallesmarinerisSoup = bs(vallesmarinerisHTML, 'html.parser')\n",
    "\n",
    "vallesmarinerisImage = vallesmarinerisSoup.find('img', class_=\"wide-image\")\n",
    "hemisphere_image_urls.append({\"title\": \"Valles Marineris Hemisphere\", \"URL\": imageBeginURL +vallesmarinerisImage['src']})"
   ]
  },
  {
   "cell_type": "code",
   "execution_count": null,
   "metadata": {},
   "outputs": [],
   "source": []
  },
  {
   "cell_type": "code",
   "execution_count": null,
   "metadata": {},
   "outputs": [],
   "source": []
  }
 ],
 "metadata": {
  "kernelspec": {
   "display_name": "Python 3",
   "language": "python",
   "name": "python3"
  },
  "language_info": {
   "codemirror_mode": {
    "name": "ipython",
    "version": 3
   },
   "file_extension": ".py",
   "mimetype": "text/x-python",
   "name": "python",
   "nbconvert_exporter": "python",
   "pygments_lexer": "ipython3",
   "version": "3.6.9"
  }
 },
 "nbformat": 4,
 "nbformat_minor": 2
}
