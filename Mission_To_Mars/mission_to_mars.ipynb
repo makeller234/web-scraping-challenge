{
 "cells": [
  {
   "cell_type": "code",
   "execution_count": 1,
   "metadata": {},
   "outputs": [],
   "source": [
    "import pandas as pd\n",
    "from splinter import Browser\n",
    "from bs4 import BeautifulSoup as bs\n",
    "import requests"
   ]
  },
  {
   "cell_type": "code",
   "execution_count": 2,
   "metadata": {},
   "outputs": [],
   "source": [
    "executable_path = {'executable_path': '/usr/local/bin/chromedriver'}\n",
    "browser = Browser('chrome', **executable_path, headless=False)"
   ]
  },
  {
   "cell_type": "code",
   "execution_count": 6,
   "metadata": {},
   "outputs": [
    {
     "data": {
      "text/plain": [
       "'NASA to Reveal Name of Its Next Mars Rover'"
      ]
     },
     "execution_count": 6,
     "metadata": {},
     "output_type": "execute_result"
    }
   ],
   "source": [
    "# find article title\n",
    "articleURL = \"https://mars.nasa.gov/news\"\n",
    "browser.visit(articleURL)\n",
    "html = browser.html\n",
    "soup = bs(html, \"html.parser\")\n",
    "\n",
    "articleTitle = soup.find(\"div\", class_=\"list_text\")\n",
    "\n",
    "content = articleTitle.find('div', class_=\"content_title\")\n",
    "bulk = content.find('a')\n",
    "news_title = bulk.text\n"
   ]
  },
  {
   "cell_type": "code",
   "execution_count": 19,
   "metadata": {},
   "outputs": [
    {
     "data": {
      "text/plain": [
       "\"After a months-long contest among students to name NASA's newest Mars rover, the agency will reveal the winning name — and the winning student — this Thursday. \""
      ]
     },
     "execution_count": 19,
     "metadata": {},
     "output_type": "execute_result"
    }
   ],
   "source": [
    "# find paragraph text for articles\n",
    "news_p = soup.find('div', class_='article_teaser_body').text\n"
   ]
  },
  {
   "cell_type": "code",
   "execution_count": 10,
   "metadata": {},
   "outputs": [],
   "source": [
    "# mars feature image\n",
    "marsURL = \"https://www.jpl.nasa.gov/spaceimages/?search=&category=Mars\"\n",
    "\n",
    "browser.visit(marsURL)\n",
    "marsHTML = browser.html\n",
    "marsSoup = bs(marsHTML, \"html.parser\")\n"
   ]
  },
  {
   "cell_type": "code",
   "execution_count": 11,
   "metadata": {},
   "outputs": [],
   "source": [
    "# mars feature image continued\n",
    "featureImage = marsSoup.find('article')\n",
    "\n",
    "close = featureImage.find('footer')\n",
    "gettingCloser = close.find('a')\n",
    "bingo = gettingCloser['data-fancybox-href']\n",
    "\n",
    "featured_image_url = \"https://www.jpl.nasa.gov\" + bingo\n",
    "#print(featured_image_url)"
   ]
  },
  {
   "cell_type": "code",
   "execution_count": 12,
   "metadata": {},
   "outputs": [],
   "source": [
    "# mars twitter weather\n",
    "weatherURL = \"https://twitter.com/marswxreport?lang=en\"\n",
    "weatherResponse = requests.get(weatherURL)\n",
    "\n",
    "weatherSoup = bs(weatherResponse.text, 'html.parser')\n",
    "\n",
    "mars_weather = weatherSoup.find('p', class_=\"TweetTextSize TweetTextSize--normal js-tweet-text tweet-text\").text\n"
   ]
  },
  {
   "cell_type": "code",
   "execution_count": 13,
   "metadata": {},
   "outputs": [],
   "source": [
    "# mars facts\n",
    "tableURL = \"https://space-facts.com/mars/\"\n",
    "\n",
    "table = pd.read_html(tableURL)\n",
    "marsFacts = pd.DataFrame(table[0])"
   ]
  },
  {
   "cell_type": "code",
   "execution_count": 14,
   "metadata": {},
   "outputs": [],
   "source": [
    "# hemispheres\n",
    "hemisphere_image_urls = []\n",
    "imageBeginURL = \"https://astrogeology.usgs.gov\"\n",
    "\n",
    "cerberusURL = \"https://astrogeology.usgs.gov/search/map/Mars/Viking/cerberus_enhanced\"\n",
    "browser.visit(cerberusURL)\n",
    "cerberusHTML = browser.html\n",
    "cerberusSoup = bs(cerberusHTML, \"html.parser\")\n",
    "\n",
    "cerberusImage = cerberusSoup.find('img', class_=\"wide-image\")\n",
    "hemisphere_image_urls.append({\"title\":\"Cerberus Hemisphere\", \"URL\": imageBeginURL + cerberusImage['src']})"
   ]
  },
  {
   "cell_type": "code",
   "execution_count": 15,
   "metadata": {},
   "outputs": [],
   "source": [
    "schiaparelliURL = \"https://astrogeology.usgs.gov/search/map/Mars/Viking/schiaparelli_enhanced\"\n",
    "browser.visit(schiaparelliURL)\n",
    "schiaparelliHTML = browser.html\n",
    "schiaparelliSoup = bs(schiaparelliHTML, 'html.parser')\n",
    "\n",
    "schiaparelliImage = schiaparelliSoup.find('img', class_=\"wide-image\")\n",
    "schiaparelliImage['src']\n",
    "\n",
    "hemisphere_image_urls.append({\"title\": \"Schiaparelli Hemisphere\", \"URL\": imageBeginURL + schiaparelliImage['src']})"
   ]
  },
  {
   "cell_type": "code",
   "execution_count": 16,
   "metadata": {},
   "outputs": [],
   "source": [
    "syrtismajorURL = \"https://astrogeology.usgs.gov/search/map/Mars/Viking/syrtis_major_enhanced\"\n",
    "browser.visit(syrtismajorURL)\n",
    "syrtismajorHTML = browser.html\n",
    "syrtismajorSoup = bs(syrtismajorHTML, 'html.parser')\n",
    "\n",
    "syrtismajorImage = syrtismajorSoup.find('img', class_=\"wide-image\")\n",
    "hemisphere_image_urls.append({\"title\": \"Syrtis Major Hemisphere\", \"URL\": imageBeginURL + syrtismajorImage['src']})"
   ]
  },
  {
   "cell_type": "code",
   "execution_count": 17,
   "metadata": {},
   "outputs": [],
   "source": [
    "vallesmarinerisURL = \"https://astrogeology.usgs.gov/search/map/Mars/Viking/valles_marineris_enhanced\"\n",
    "browser.visit(vallesmarinerisURL)\n",
    "vallesmarinerisHTML = browser.html\n",
    "vallesmarinerisSoup = bs(vallesmarinerisHTML, 'html.parser')\n",
    "\n",
    "vallesmarinerisImage = vallesmarinerisSoup.find('img', class_=\"wide-image\")\n",
    "hemisphere_image_urls.append({\"title\": \"Valles Marineris Hemisphere\", \"URL\": imageBeginURL +vallesmarinerisImage['src']})"
   ]
  },
  {
   "cell_type": "code",
   "execution_count": null,
   "metadata": {},
   "outputs": [],
   "source": []
  },
  {
   "cell_type": "code",
   "execution_count": null,
   "metadata": {},
   "outputs": [],
   "source": []
  }
 ],
 "metadata": {
  "kernelspec": {
   "display_name": "Python 3",
   "language": "python",
   "name": "python3"
  },
  "language_info": {
   "codemirror_mode": {
    "name": "ipython",
    "version": 3
   },
   "file_extension": ".py",
   "mimetype": "text/x-python",
   "name": "python",
   "nbconvert_exporter": "python",
   "pygments_lexer": "ipython3",
   "version": "3.6.9"
  }
 },
 "nbformat": 4,
 "nbformat_minor": 2
}
